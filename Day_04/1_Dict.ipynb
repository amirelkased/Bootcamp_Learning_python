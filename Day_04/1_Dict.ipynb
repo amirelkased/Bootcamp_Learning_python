{
 "cells": [
  {
   "cell_type": "markdown",
   "metadata": {},
   "source": [
    "[1] items in curly braces {}\n",
    "[2] item => key:value , ...\n",
    "[3] key => is any datatype except list and it is immutable and unique\n",
    "[4] keu is ordered"
   ]
  },
  {
   "cell_type": "code",
   "execution_count": 8,
   "metadata": {},
   "outputs": [
    {
     "name": "stdout",
     "output_type": "stream",
     "text": [
      "{'Amir': 21, 'Ibrahim': 50, 101: 'test', 'Country': 'Egypt', 'Skills': ['Java', 'CPP', 'Python']}\n",
      "21\n",
      "['Python', 'CPP', 'Java']\n",
      "dict_keys(['Amir', 'Ibrahim', 101, 'Country', 'Skills'])\n"
     ]
    }
   ],
   "source": [
    "user = {'Amir':21, \n",
    "        'Ibrahim':50,\n",
    "        101 :'test', \n",
    "        'Country':'Egypt',\n",
    "        'Skills' : ['Java','CPP','Python']\n",
    "}\n",
    "print(user)\n",
    "print(user.get('Amir'))\n",
    "print(user['Skills'][::-1])\n",
    "print(user.keys())"
   ]
  },
  {
   "cell_type": "markdown",
   "metadata": {},
   "source": [
    "Two Dimensional Dictionary 'nested'"
   ]
  },
  {
   "cell_type": "code",
   "execution_count": 12,
   "metadata": {},
   "outputs": [
    {
     "name": "stdout",
     "output_type": "stream",
     "text": [
      "{'One': {'name': 'HTML', 'ver': 1.1}, 'Two': {'name': 'Java', 'ver': 19.1}, 'age': 21}\n",
      "HTML\n",
      "19.1\n"
     ]
    }
   ],
   "source": [
    "lang = {'One':{\n",
    "    'name':'HTML', 'ver':1.1\n",
    "}, 'Two': {\n",
    "    'name': 'Java', 'ver': 19.1\n",
    "},'age':21\n",
    "}\n",
    "print(lang)\n",
    "print(lang['One']['name'])\n",
    "print(lang['Two']['ver'])"
   ]
  },
  {
   "cell_type": "markdown",
   "metadata": {},
   "source": [
    "how to combine multi dict with other"
   ]
  },
  {
   "cell_type": "code",
   "execution_count": 13,
   "metadata": {},
   "outputs": [
    {
     "name": "stdout",
     "output_type": "stream",
     "text": [
      "{'one': {'name': 'Amir', 'age': 21}, 'two': {'name': 'Amr', 'age': 23}}\n"
     ]
    }
   ],
   "source": [
    "one = {'name':'Amir','age':21}\n",
    "two = {'name':'Amr','age':23}\n",
    "all = {'one':one, 'two':two}\n",
    "print(all)"
   ]
  },
  {
   "cell_type": "markdown",
   "metadata": {},
   "source": [
    "[1] clear()\n",
    "[2] update({key:value}) => add new item to dict"
   ]
  },
  {
   "cell_type": "code",
   "execution_count": 19,
   "metadata": {},
   "outputs": [
    {
     "name": "stdout",
     "output_type": "stream",
     "text": [
      "{'name': 'Amir', 'age': 21, 'amir': 90, 'ahmed': 36, 'test': 404}\n",
      "dict_keys(['name', 'age', 'amir', 'ahmed', 'test'])\n",
      "dict_values(['Amir', 21, 90, 36, 404])\n"
     ]
    }
   ],
   "source": [
    "one = {'name': 'Amir', 'age': 21}\n",
    "# 1\n",
    "one.update({'amir':90, 'ahmed':36})\n",
    "# 2 \n",
    "one['test'] = 404\n",
    "print(one)\n",
    "print(one.keys())\n",
    "print(one.values())"
   ]
  },
  {
   "cell_type": "markdown",
   "metadata": {},
   "source": [
    "setdefault() ==== putIfAbsent()"
   ]
  },
  {
   "cell_type": "code",
   "execution_count": 21,
   "metadata": {},
   "outputs": [
    {
     "name": "stdout",
     "output_type": "stream",
     "text": [
      "Amir\n",
      "Ahmed\n",
      "{'name': 'Amir', 'age': 21, 'Bro': 'Ahmed'}\n"
     ]
    }
   ],
   "source": [
    "one = {'name': 'Amir', 'age': 21}\n",
    "print(one.setdefault('name','Amir'))\n",
    "print(one.setdefault('Bro','Ahmed'))\n",
    "print(one)"
   ]
  },
  {
   "cell_type": "markdown",
   "metadata": {},
   "source": [
    "popitem() return last ele in dict and delete it\n",
    "items() return list of tuple"
   ]
  },
  {
   "cell_type": "code",
   "execution_count": 25,
   "metadata": {},
   "outputs": [
    {
     "name": "stdout",
     "output_type": "stream",
     "text": [
      "('Age', 46)\n",
      "dict_items([('name', 'Amir'), ('age', 21)])\n"
     ]
    }
   ],
   "source": [
    "one = {'name': 'Amir', 'age': 21, 'Age': 46}\n",
    "print(one.popitem())\n",
    "print(one.items())"
   ]
  },
  {
   "cell_type": "markdown",
   "metadata": {},
   "source": [
    "fromkeys() used to make dict from two tuple"
   ]
  },
  {
   "cell_type": "code",
   "execution_count": 26,
   "metadata": {},
   "outputs": [
    {
     "name": "stdout",
     "output_type": "stream",
     "text": [
      "{'name': ('XX', 'YY', 'ZZ'), 'age': ('XX', 'YY', 'ZZ')}\n"
     ]
    }
   ],
   "source": [
    "a =  ('name','age')\n",
    "b = 'XX','YY','ZZ'\n",
    "print(dict.fromkeys(a,b))"
   ]
  }
 ],
 "metadata": {
  "kernelspec": {
   "display_name": "Python 3.10.8 64-bit",
   "language": "python",
   "name": "python3"
  },
  "language_info": {
   "codemirror_mode": {
    "name": "ipython",
    "version": 3
   },
   "file_extension": ".py",
   "mimetype": "text/x-python",
   "name": "python",
   "nbconvert_exporter": "python",
   "pygments_lexer": "ipython3",
   "version": "3.10.8"
  },
  "orig_nbformat": 4,
  "vscode": {
   "interpreter": {
    "hash": "930ccf22a1ac4f5252055e3575335d0b7f1e6c4c9e65c49627e65fd4d7411108"
   }
  }
 },
 "nbformat": 4,
 "nbformat_minor": 2
}
