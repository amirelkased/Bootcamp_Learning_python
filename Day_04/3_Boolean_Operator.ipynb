{
 "cells": [
  {
   "cell_type": "markdown",
   "metadata": {},
   "source": [
    "- and operator"
   ]
  },
  {
   "cell_type": "code",
   "execution_count": 5,
   "metadata": {},
   "outputs": [
    {
     "name": "stdout",
     "output_type": "stream",
     "text": [
      "False\n",
      "True\n",
      "True\n"
     ]
    }
   ],
   "source": [
    "name = 'Amir'\n",
    "location = 'EGY'\n",
    "rank = 101\n",
    "print(name == 'Amir' and location == 'SA') # False\n",
    "print(name == 'Amir' and location == 'EGY')  # True\n",
    "print(name == 'Amir' and location == 'EGY' and rank == 101)  # True\n"
   ]
  },
  {
   "cell_type": "markdown",
   "metadata": {},
   "source": [
    "- or operator"
   ]
  },
  {
   "cell_type": "code",
   "execution_count": 6,
   "metadata": {},
   "outputs": [
    {
     "name": "stdout",
     "output_type": "stream",
     "text": [
      "True\n",
      "True\n",
      "True\n"
     ]
    }
   ],
   "source": [
    "name = 'Amir'\n",
    "location = 'EGY'\n",
    "rank = 101\n",
    "print(name == 'Amir' or location == 'SA')  # True\n",
    "print(name == 'r' or location == 'EGY')  # True\n",
    "print(name == 'A' or location == 'EGY' and rank == 101)  # True\n"
   ]
  },
  {
   "cell_type": "markdown",
   "metadata": {},
   "source": [
    "- not operator"
   ]
  },
  {
   "cell_type": "code",
   "execution_count": 7,
   "metadata": {},
   "outputs": [
    {
     "name": "stdout",
     "output_type": "stream",
     "text": [
      "True\n",
      "False\n"
     ]
    }
   ],
   "source": [
    "name = 'Amir'\n",
    "location = 'EGY'\n",
    "rank = 101\n",
    "print(name == 'Amir' and location == 'EGY')  # True\n",
    "print(not name == 'Amir' and location == 'EGY')  # False"
   ]
  }
 ],
 "metadata": {
  "kernelspec": {
   "display_name": "Python 3.10.8 64-bit",
   "language": "python",
   "name": "python3"
  },
  "language_info": {
   "codemirror_mode": {
    "name": "ipython",
    "version": 3
   },
   "file_extension": ".py",
   "mimetype": "text/x-python",
   "name": "python",
   "nbconvert_exporter": "python",
   "pygments_lexer": "ipython3",
   "version": "3.10.8"
  },
  "orig_nbformat": 4,
  "vscode": {
   "interpreter": {
    "hash": "e31f7147029ffa168b4dcb489bfca7c5a6e47757633200a9e44625cd94e56c1d"
   }
  }
 },
 "nbformat": 4,
 "nbformat_minor": 2
}
