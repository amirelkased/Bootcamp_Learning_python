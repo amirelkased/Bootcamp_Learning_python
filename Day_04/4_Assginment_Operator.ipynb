{
 "cells": [
  {
   "cell_type": "markdown",
   "metadata": {},
   "source": [
    "=\n",
    "+=\n",
    "-=\n",
    "*=\n",
    "/=\n",
    "**= a^b"
   ]
  },
  {
   "cell_type": "code",
   "execution_count": 1,
   "metadata": {},
   "outputs": [
    {
     "name": "stdout",
     "output_type": "stream",
     "text": [
      "21\n",
      "31\n",
      "21\n",
      "42\n",
      "8\n"
     ]
    }
   ],
   "source": [
    "age = 21\n",
    "print(age) # 21\n",
    "age += 10\n",
    "print(age) #31\n",
    "age -= 10\n",
    "print(age) # 21\n",
    "age*= 2\n",
    "print(age) # 42\n",
    "age = 2\n",
    "age **= 3\n",
    "print(age) # 8"
   ]
  }
 ],
 "metadata": {
  "kernelspec": {
   "display_name": "Python 3.10.8 64-bit",
   "language": "python",
   "name": "python3"
  },
  "language_info": {
   "codemirror_mode": {
    "name": "ipython",
    "version": 3
   },
   "file_extension": ".py",
   "mimetype": "text/x-python",
   "name": "python",
   "nbconvert_exporter": "python",
   "pygments_lexer": "ipython3",
   "version": "3.10.8"
  },
  "orig_nbformat": 4,
  "vscode": {
   "interpreter": {
    "hash": "e31f7147029ffa168b4dcb489bfca7c5a6e47757633200a9e44625cd94e56c1d"
   }
  }
 },
 "nbformat": 4,
 "nbformat_minor": 2
}
